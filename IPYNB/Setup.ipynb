{
  "nbformat": 4,
  "nbformat_minor": 0,
  "metadata": {
    "colab": {
      "provenance": []
    },
    "kernelspec": {
      "name": "python3",
      "display_name": "Python 3"
    },
    "language_info": {
      "name": "python"
    }
  },
  "cells": [
    {
      "cell_type": "code",
      "execution_count": 1,
      "metadata": {
        "colab": {
          "base_uri": "https://localhost:8080/"
        },
        "id": "-gMWprA_zrAh",
        "outputId": "999c1199-e899-4bc7-dda2-290007a616b4"
      },
      "outputs": [
        {
          "output_type": "stream",
          "name": "stdout",
          "text": [
            "Mounted at /content/drive\n",
            "/content/drive/MyDrive/Github\n"
          ]
        }
      ],
      "source": [
        "# This is a new start using the Bangledesh team's most recent version of their codebase\n",
        "# Starting the port to Google Drive\n",
        "\n",
        "from google.colab import drive\n",
        "drive.mount('/content/drive')\n",
        "\n",
        "%cd /content/drive/MyDrive/Github/"
      ]
    },
    {
      "cell_type": "code",
      "source": [
        "!git config --global user.email \"bgoldfe2@gmu.edu\"\n",
        "!git config --global user.name \"Bruce Goldfeder\""
      ],
      "metadata": {
        "id": "oWyJXCRE089U"
      },
      "execution_count": 2,
      "outputs": []
    },
    {
      "cell_type": "code",
      "source": [
        "%cd Extended-Cyberbullying-Detection/"
      ],
      "metadata": {
        "colab": {
          "base_uri": "https://localhost:8080/"
        },
        "id": "70JS5orH1ntq",
        "outputId": "a78171c9-b7fa-42b9-b13c-3d05bc9f5426"
      },
      "execution_count": 3,
      "outputs": [
        {
          "output_type": "stream",
          "name": "stdout",
          "text": [
            "/content/drive/MyDrive/Github/Extended-Cyberbullying-Detection\n"
          ]
        }
      ]
    },
    {
      "cell_type": "code",
      "source": [
        "!ls -al"
      ],
      "metadata": {
        "colab": {
          "base_uri": "https://localhost:8080/"
        },
        "id": "6uPJRiqh1rNj",
        "outputId": "40b7c9cf-f606-4b33-ae74-842837b40b90"
      },
      "execution_count": 5,
      "outputs": [
        {
          "output_type": "stream",
          "name": "stdout",
          "text": [
            "total 41\n",
            "drwx------ 5 root root 4096 Dec 27 18:26  Dataset\n",
            "drwx------ 2 root root 4096 Dec 27 18:26  Figures\n",
            "drwx------ 8 root root 4096 Dec 27 18:26  .git\n",
            "-rw------- 1 root root   66 Dec 27 18:26  .gitattributes\n",
            "-rw------- 1 root root   60 Dec 27 18:26  .gitignore\n",
            "drwx------ 2 root root 4096 Dec 27 18:26  IPYNB\n",
            "-rw------- 1 root root 1069 Dec 27 18:26  LICENSE\n",
            "drwx------ 2 root root 4096 Dec 27 18:26  Models\n",
            "drwx------ 2 root root 4096 Dec 27 18:26  Notebooks\n",
            "drwx------ 2 root root 4096 Dec 27 18:26  Output\n",
            "drwx------ 2 root root 4096 Dec 27 18:26 'Paper Figures'\n",
            "-rw------- 1 root root 1448 Dec 27 18:26  README.md\n",
            "-rw------- 1 root root   45 Dec 27 18:26  requirements.txt\n",
            "drwx------ 3 root root 4096 Dec 27 18:26  Scripts\n"
          ]
        }
      ]
    },
    {
      "cell_type": "code",
      "source": [],
      "metadata": {
        "id": "cKgN_RP71trx"
      },
      "execution_count": null,
      "outputs": []
    }
  ]
}